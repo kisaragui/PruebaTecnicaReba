{
 "cells": [
  {
   "attachments": {},
   "cell_type": "markdown",
   "metadata": {},
   "source": [
    "# Analisis de Exploracion de Datos"
   ]
  },
  {
   "attachments": {},
   "cell_type": "markdown",
   "metadata": {},
   "source": [
    "#### Paso 1: Importando libreria y configuraciones"
   ]
  },
  {
   "cell_type": "code",
   "execution_count": null,
   "metadata": {},
   "outputs": [],
   "source": [
    "import  pandas as pd \n",
    "import plotly.express as px\n",
    "from utils.FileHandler import FileHandler\n",
    "\n",
    "\n",
    "pd.set_option('display.max_rows', 500)\n",
    "pd.set_option('display.max_columns', 500)\n",
    "pd.set_option('display.width', 1000)"
   ]
  },
  {
   "attachments": {},
   "cell_type": "markdown",
   "metadata": {},
   "source": [
    "#### Paso 2: Cargando el archivo xls "
   ]
  },
  {
   "cell_type": "code",
   "execution_count": null,
   "metadata": {},
   "outputs": [],
   "source": [
    "file = FileHandler()\n",
    "cheatsheet = \"Índices aperturas\"\n",
    "xls_name = \"sh_ipc_aperturas.xls\"\n",
    "\n",
    "xls = file.get_xls(\"https://www.indec.gob.ar/ftp/cuadros/economia/sh_ipc_aperturas.xls\")\n",
    "cs = file.get_cheatsheet(xls_name,cheatsheet)"
   ]
  },
  {
   "attachments": {},
   "cell_type": "markdown",
   "metadata": {},
   "source": [
    "#### Paso 3: Cargando las partes o regiones del archivo xls\n",
    "\n",
    "Se procede a cargar los lotes del archivo xls, especificamente de la pestaña ‘Índices aperturas’"
   ]
  },
  {
   "cell_type": "code",
   "execution_count": null,
   "metadata": {},
   "outputs": [],
   "source": [
    "\n",
    "regions_name = [\"Región_GBA\", \n",
    "                \"Región_Pampeana\", \n",
    "                \"Región_Noroeste\", \n",
    "                \"Región_Noreste\", \n",
    "                \"Región_Cuyo\",\n",
    "                \"Región_Patagonia\"]\n",
    "\n",
    "description_region_principal= [\"Nivel general\",\n",
    "                    \"Alimentos y bebidas no alcohólicas\",\n",
    "                    \"Bebidas alcohólicas y tabaco\",\n",
    "                    \"Prendas de vestir y calzado\",\n",
    "                    \"Vivienda, agua, electricidad, gas y otros combustibles\",\n",
    "                    \"Equipamiento y mantenimiento del hogar\",\n",
    "                    \"Salud\",\n",
    "                    \"Transporte\",\n",
    "                    \"Comunicación\",\n",
    "                    \"Recreación y cultura\",\n",
    "                    \"Educación\",\n",
    "                    \"Restaurantes y hoteles\",\n",
    "                    \"Bienes y servicios varios\"]\n",
    "\n",
    "df_GBA = pd.read_excel(\"data/{}.xlsx\".format(regions_name[0]),parse_dates=[0])\n",
    "df_Pampeana = pd.read_excel(\"data/{}.xlsx\".format(regions_name[1]), parse_dates=[0])\n",
    "df_Noroeste = pd.read_excel(\"data/{}.xlsx\".format(regions_name[2]), parse_dates=[0])\n",
    "df_Noreste = pd.read_excel(\"data/{}.xlsx\".format(regions_name[3]), parse_dates=[0])\n",
    "df_Cuyo = pd.read_excel(\"data/{}.xlsx\".format(regions_name[4]), parse_dates=[0])\n",
    "df_Patagonia =pd.read_excel(\"data/{}.xlsx\".format(regions_name[5]), parse_dates=[0])"
   ]
  },
  {
   "attachments": {},
   "cell_type": "markdown",
   "metadata": {},
   "source": [
    "#### Paso 4: Identificando las propiedades de los dataframes\n",
    "\n",
    "Se usara como el ejemplo el archivo con la informacion de la Region GBA."
   ]
  },
  {
   "cell_type": "code",
   "execution_count": null,
   "metadata": {},
   "outputs": [],
   "source": [
    "df_GBA.info()\n",
    "#df_Pampeana.info(verbose=False)\n",
    "#df_Noroeste.info(verbose=False)\n",
    "#df_Noreste.info(verbose=False)\n",
    "#df_Cuyo.info(verbose=False)\n",
    "#df_Patagonia.info(verbose=False)"
   ]
  },
  {
   "attachments": {},
   "cell_type": "markdown",
   "metadata": {},
   "source": [
    "Se Evidencia que entre los tipos de columnas, hay varias con \n",
    "el tipo object... De acuerdo a una revision superficial en el archivo solo para primera columna \"Fecha\" seria\n",
    " como tipo Date y las demas como tipo float."
   ]
  },
  {
   "attachments": {},
   "cell_type": "markdown",
   "metadata": {},
   "source": [
    "#### Paso 5: Indagando el contenido de las columas tipo object\n",
    "\n",
    "Se obvserva que entre los valores de cada columna hay un valor inusual,\n",
    " que impide la conversion de las columnas de string a float."
   ]
  },
  {
   "cell_type": "code",
   "execution_count": null,
   "metadata": {},
   "outputs": [],
   "source": [
    "df_GBA.select_dtypes(include='object')"
   ]
  },
  {
   "attachments": {},
   "cell_type": "markdown",
   "metadata": {},
   "source": [
    "#### Paso 6: Profundizando en la busqueda del valor inusual\n",
    "\n",
    "Se opta por intentar realizar la conversion o casteo y generar con la columna \"Prendas de vestir y materiales\" con la muestra y generar un indicador para comprobar el procedimiento."
   ]
  },
  {
   "cell_type": "code",
   "execution_count": null,
   "metadata": {},
   "outputs": [],
   "source": [
    "check_cast_number = pd.to_numeric(df_GBA[\"Prendas de vestir y materiales\"], errors='coerce').isnull()\n",
    "check_cast_number.any()"
   ]
  },
  {
   "attachments": {},
   "cell_type": "markdown",
   "metadata": {},
   "source": [
    "Al dar verdadero el indicador, procede a identificar el valor inusual y aisladolo por su nivel de fila"
   ]
  },
  {
   "cell_type": "code",
   "execution_count": null,
   "metadata": {},
   "outputs": [],
   "source": [
    "df_GBA[check_cast_number]['Prendas de vestir y materiales']"
   ]
  },
  {
   "attachments": {},
   "cell_type": "markdown",
   "metadata": {},
   "source": [
    "Una vez, discretado el valor se remplazara por un valor numero como cero (0)\n",
    "para terminar correctamente el casteo o conversion de los valores de las columnas faltantes  y se comprueba que no quede algun valor inusual del mismo tipo en la muestra de la Region GBA"
   ]
  },
  {
   "cell_type": "code",
   "execution_count": null,
   "metadata": {},
   "outputs": [],
   "source": [
    "df_clean_GBA= df_GBA.replace(\"///\", 0)\n",
    "df_clean_Pampeana = df_Pampeana.replace(\"///\", 0)\n",
    "df_clean_Noroeste = df_Noroeste.replace(\"///\", 0)\n",
    "df_clean_Noreste = df_Noreste.replace(\"///\", 0)\n",
    "df_clean_Cuyo = df_Cuyo.replace(\"///\", 0)\n",
    "df_clean_Patagonia = df_Patagonia.replace(\"///\", 0)\n",
    "\n",
    "df_ckeck_finished = df_clean_GBA.eq(\"///\").any(axis=1).sum()\n",
    "df_ckeck_finished\n"
   ]
  },
  {
   "attachments": {},
   "cell_type": "markdown",
   "metadata": {},
   "source": [
    "### Paso 7: Visualización de los datos \n",
    "\n",
    "En esta parte se grafica una muestra con los meses de años 2022"
   ]
  },
  {
   "cell_type": "code",
   "execution_count": null,
   "metadata": {},
   "outputs": [],
   "source": [
    "df_anio_2022 = df_clean_GBA.query(\"Fecha >= '2022-01-01' and Fecha <= '2022-12-01'\")\n",
    "fig = px.line(df_anio_2022, x=\"Fecha\", y=description_region_principal, labels=description_region_principal)\n",
    "fig.update_layout(title={\"text\":'Indices de precios del año 2022', 'y':0.93,'x':0.35, 'xanchor': 'center', 'yanchor': 'top'},\n",
    "                   xaxis_title='Meses',\n",
    "                   yaxis_title='Indices',\n",
    "                   legend_title_text='Rubros:')\n",
    "fig.show()"
   ]
  },
  {
   "attachments": {},
   "cell_type": "markdown",
   "metadata": {},
   "source": [
    "Como se puede observar, el rubro mas alto fue el de Prendas de vestir y calzado y el rubro mas bajo fue el de la Comunicacion."
   ]
  }
 ],
 "metadata": {
  "kernelspec": {
   "display_name": "Python 3 (ipykernel)",
   "language": "python",
   "name": "python3"
  },
  "language_info": {
   "codemirror_mode": {
    "name": "ipython",
    "version": 3
   },
   "file_extension": ".py",
   "mimetype": "text/x-python",
   "name": "python",
   "nbconvert_exporter": "python",
   "pygments_lexer": "ipython3",
   "version": "3.11.3"
  }
 },
 "nbformat": 4,
 "nbformat_minor": 2
}
